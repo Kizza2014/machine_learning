{
 "cells": [
  {
   "cell_type": "markdown",
   "metadata": {},
   "source": [
    "### VD A.1:"
   ]
  },
  {
   "cell_type": "markdown",
   "metadata": {},
   "source": [
    "Data:"
   ]
  },
  {
   "cell_type": "code",
   "execution_count": 52,
   "metadata": {},
   "outputs": [],
   "source": [
    "import numpy as np\n",
    "import matplotlib.pyplot as plt\n",
    "np.random.seed(2)\n",
    "X_train = np.array([0.50, 0.75, 1.00, 1.25, 1.50, 1.75, 1.75, 2.00, 2.25, 2.50,2.75, 3.00, 3.25, 3.50, 4.00, 4.25, 4.50, 4.75, 5.00, 5.50])\n",
    "y_train = np.array([0, 0, 0, 0, 0, 0, 1, 0, 1, 0, 1, 0, 1, 0, 1, 1, 1, 1, 1, 1])\n",
    "X_test = np.array([2.45, 1.85, 3.75, 3.21, 4.05])"
   ]
  },
  {
   "cell_type": "code",
   "execution_count": 53,
   "metadata": {},
   "outputs": [],
   "source": [
    "def find_k_nearest(value, X_train, k):\n",
    "    dist = abs(X_train - value)\n",
    "    return np.argsort(dist)[:k]"
   ]
  },
  {
   "cell_type": "code",
   "execution_count": 55,
   "metadata": {},
   "outputs": [
    {
     "name": "stdout",
     "output_type": "stream",
     "text": [
      "k=3:\n",
      "[1. 0. 1. 0. 1.]\n",
      "k=4:\n",
      "[1. 0. 1. 1. 1.]\n",
      "k=5:\n",
      "[0. 0. 1. 0. 1.]\n"
     ]
    }
   ],
   "source": [
    "def predict(X_test, k):\n",
    "    y_pred = np.zeros(len(X_test))\n",
    "    for i in range(len(X_test)):\n",
    "        indexes = find_k_nearest(X_test[i], X_train, k)\n",
    "        probs = np.mean([y_train[idx] for idx in indexes])\n",
    "        if probs >= 0.5:\n",
    "            y_pred[i] = 1\n",
    "    return y_pred\n",
    "print('k=3:')\n",
    "print(predict(X_test, 3))\n",
    "print('k=4:')\n",
    "print(predict(X_test, 4))\n",
    "print('k=5:')\n",
    "print(predict(X_test, 5))"
   ]
  },
  {
   "cell_type": "markdown",
   "metadata": {},
   "source": [
    "### VD A.2:"
   ]
  },
  {
   "cell_type": "markdown",
   "metadata": {},
   "source": [
    "Data:"
   ]
  },
  {
   "cell_type": "code",
   "execution_count": 66,
   "metadata": {},
   "outputs": [
    {
     "data": {
      "text/html": [
       "<div>\n",
       "<style scoped>\n",
       "    .dataframe tbody tr th:only-of-type {\n",
       "        vertical-align: middle;\n",
       "    }\n",
       "\n",
       "    .dataframe tbody tr th {\n",
       "        vertical-align: top;\n",
       "    }\n",
       "\n",
       "    .dataframe thead th {\n",
       "        text-align: right;\n",
       "    }\n",
       "</style>\n",
       "<table border=\"1\" class=\"dataframe\">\n",
       "  <thead>\n",
       "    <tr style=\"text-align: right;\">\n",
       "      <th></th>\n",
       "      <th>TUOI</th>\n",
       "      <th>BMI</th>\n",
       "      <th>HA</th>\n",
       "      <th>GLUCOSE</th>\n",
       "      <th>CHOLESTEROL</th>\n",
       "      <th>TYPE</th>\n",
       "    </tr>\n",
       "  </thead>\n",
       "  <tbody>\n",
       "    <tr>\n",
       "      <th>0</th>\n",
       "      <td>56</td>\n",
       "      <td>21</td>\n",
       "      <td>160</td>\n",
       "      <td>14.0</td>\n",
       "      <td>6.00</td>\n",
       "      <td>1.0</td>\n",
       "    </tr>\n",
       "    <tr>\n",
       "      <th>1</th>\n",
       "      <td>76</td>\n",
       "      <td>18</td>\n",
       "      <td>150</td>\n",
       "      <td>12.0</td>\n",
       "      <td>4.97</td>\n",
       "      <td>1.0</td>\n",
       "    </tr>\n",
       "    <tr>\n",
       "      <th>2</th>\n",
       "      <td>63</td>\n",
       "      <td>16</td>\n",
       "      <td>160</td>\n",
       "      <td>4.4</td>\n",
       "      <td>6.39</td>\n",
       "      <td>0.0</td>\n",
       "    </tr>\n",
       "    <tr>\n",
       "      <th>3</th>\n",
       "      <td>78</td>\n",
       "      <td>20</td>\n",
       "      <td>100</td>\n",
       "      <td>4.0</td>\n",
       "      <td>7.00</td>\n",
       "      <td>1.0</td>\n",
       "    </tr>\n",
       "    <tr>\n",
       "      <th>4</th>\n",
       "      <td>87</td>\n",
       "      <td>20</td>\n",
       "      <td>110</td>\n",
       "      <td>4.6</td>\n",
       "      <td>4.10</td>\n",
       "      <td>1.0</td>\n",
       "    </tr>\n",
       "  </tbody>\n",
       "</table>\n",
       "</div>"
      ],
      "text/plain": [
       "   TUOI  BMI   HA  GLUCOSE  CHOLESTEROL  TYPE\n",
       "0    56   21  160     14.0         6.00   1.0\n",
       "1    76   18  150     12.0         4.97   1.0\n",
       "2    63   16  160      4.4         6.39   0.0\n",
       "3    78   20  100      4.0         7.00   1.0\n",
       "4    87   20  110      4.6         4.10   1.0"
      ]
     },
     "execution_count": 66,
     "metadata": {},
     "output_type": "execute_result"
    }
   ],
   "source": [
    "import numpy as np\n",
    "import pandas as pd\n",
    "\n",
    "data = pd.read_csv('vidu4_lin_reg.txt', delimiter=' ')\n",
    "data['TYPE'] = np.where(data['BEDAYNTM'] >= 1.0, 1.0, 0.0)\n",
    "data.drop(['ID', 'BEDAYNTM'], inplace=True, axis=1)\n",
    "data.head()"
   ]
  },
  {
   "cell_type": "code",
   "execution_count": 67,
   "metadata": {},
   "outputs": [],
   "source": [
    "X_train, y_train = data.iloc[:80, :-1].to_numpy(), data.iloc[:80, -1].to_numpy()\n",
    "X_test, y_test = data.iloc[80:, :-1].to_numpy(), data.iloc[80:, -1].to_numpy()"
   ]
  },
  {
   "cell_type": "code",
   "execution_count": 68,
   "metadata": {},
   "outputs": [],
   "source": [
    "def find_k_nearest(value, X_train, k):\n",
    "    dist = np.zeros(len(X_train))\n",
    "    for i in range(len(X_train)):\n",
    "        dist[i] = np.linalg.norm(value - X_train[i], ord=2)\n",
    "    return np.argsort(dist)[:k]"
   ]
  },
  {
   "cell_type": "code",
   "execution_count": 73,
   "metadata": {},
   "outputs": [],
   "source": [
    "def predict(X_test, X_train, k):\n",
    "    y_pred = np.zeros(len(X_test))\n",
    "    for i in range(len(X_test)):\n",
    "        indexes = find_k_nearest(X_test[i], X_train, k)\n",
    "        probs = np.mean([y_train[idx] for idx in indexes])\n",
    "        if probs >= 0.5:\n",
    "            y_pred[i] = 1\n",
    "    return y_pred\n",
    "y_pred8 = predict(X_test, X_train, k=8)\n",
    "y_pred9 = predict(X_test, X_train, k=9)"
   ]
  },
  {
   "cell_type": "markdown",
   "metadata": {},
   "source": [
    "Evaluate:"
   ]
  },
  {
   "cell_type": "code",
   "execution_count": 74,
   "metadata": {},
   "outputs": [
    {
     "name": "stdout",
     "output_type": "stream",
     "text": [
      "k=8\n",
      "Acc: 0.8\n",
      "Precision: 0.7272727272727273\n",
      "Recall: 0.8888888888888888\n",
      "\n",
      "\n",
      "k=9\n",
      "Acc: 0.65\n",
      "Precision: 0.625\n",
      "Recall: 0.5555555555555556\n"
     ]
    }
   ],
   "source": [
    "from sklearn.metrics import accuracy_score, precision_score, recall_score\n",
    "\n",
    "print('k=8')\n",
    "print(f'Acc: {accuracy_score(y_test, y_pred8)}')\n",
    "print(f'Precision: {precision_score(y_test, y_pred8)}')\n",
    "print(f'Recall: {recall_score(y_test, y_pred8)}')\n",
    "print('\\n')\n",
    "print('k=9')\n",
    "print(f'Acc: {accuracy_score(y_test, y_pred9)}')\n",
    "print(f'Precision: {precision_score(y_test, y_pred9)}')\n",
    "print(f'Recall: {recall_score(y_test, y_pred9)}')"
   ]
  },
  {
   "cell_type": "code",
   "execution_count": null,
   "metadata": {},
   "outputs": [
    {
     "data": {
      "image/png": "[encoded data removed]",
      "text/plain": [
       "<Figure size 1000x500 with 4 Axes>"
      ]
     },
     "metadata": {},
     "output_type": "display_data"
    }
   ],
   "source": [
    "from sklearn.metrics import ConfusionMatrixDisplay\n",
    "\n",
    "fig, axes = plt.subplots(nrows=1, ncols=2, figsize=(10,5))\n",
    "ConfusionMatrixDisplay.from_predictions(y_test, y_pred8, ax=axes[0])\n",
    "ConfusionMatrixDisplay.from_predictions(y_test, y_pred9, ax=axes[1])\n",
    "plt.tight_layout()  \n",
    "plt.show()"
   ]
  }
 ],
 "metadata": {
  "kernelspec": {
   "display_name": "Python 3",
   "language": "python",
   "name": "python3"
  },
  "language_info": {
   "codemirror_mode": {
    "name": "ipython",
    "version": 3
   },
   "file_extension": ".py",
   "mimetype": "text/x-python",
   "name": "python",
   "nbconvert_exporter": "python",
   "pygments_lexer": "ipython3",
   "version": "3.10.11"
  }
 },
 "nbformat": 4,
 "nbformat_minor": 2
}
