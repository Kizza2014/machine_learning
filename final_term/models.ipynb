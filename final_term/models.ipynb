{
 "cells": [
  {
   "cell_type": "code",
   "execution_count": 1,
   "id": "6a757d51",
   "metadata": {},
   "outputs": [],
   "source": [
    "from sklearn.neighbors import KNeighborsClassifier\n",
    "import pandas as pd\n",
    "import numpy as np\n",
    "from sklearn.model_selection import train_test_split\n",
    "from sklearn.metrics import classification_report, roc_curve, auc\n",
    "from sklearn.preprocessing import StandardScaler\n",
    "import math\n",
    "from sklearn.utils import resample\n",
    "from imblearn.over_sampling import SMOTE, SMOTENC, ADASYN\n",
    "from sklearn.linear_model import LogisticRegression, SGDClassifier\n",
    "import matplotlib.pyplot as plt"
   ]
  },
  {
   "cell_type": "markdown",
   "id": "9d358104",
   "metadata": {},
   "source": [
    "Data:"
   ]
  },
  {
   "cell_type": "code",
   "execution_count": 2,
   "id": "b221cb6f",
   "metadata": {},
   "outputs": [
    {
     "data": {
      "text/html": [
       "<div>\n",
       "<style scoped>\n",
       "    .dataframe tbody tr th:only-of-type {\n",
       "        vertical-align: middle;\n",
       "    }\n",
       "\n",
       "    .dataframe tbody tr th {\n",
       "        vertical-align: top;\n",
       "    }\n",
       "\n",
       "    .dataframe thead th {\n",
       "        text-align: right;\n",
       "    }\n",
       "</style>\n",
       "<table border=\"1\" class=\"dataframe\">\n",
       "  <thead>\n",
       "    <tr style=\"text-align: right;\">\n",
       "      <th></th>\n",
       "      <th>HeartDiseaseorAttack</th>\n",
       "      <th>HighBP</th>\n",
       "      <th>HighChol</th>\n",
       "      <th>CholCheck</th>\n",
       "      <th>BMI</th>\n",
       "      <th>Smoker</th>\n",
       "      <th>Stroke</th>\n",
       "      <th>Diabetes</th>\n",
       "      <th>PhysActivity</th>\n",
       "      <th>Fruits</th>\n",
       "      <th>...</th>\n",
       "      <th>AnyHealthcare</th>\n",
       "      <th>NoDocbcCost</th>\n",
       "      <th>GenHlth</th>\n",
       "      <th>MentHlth</th>\n",
       "      <th>PhysHlth</th>\n",
       "      <th>DiffWalk</th>\n",
       "      <th>Sex</th>\n",
       "      <th>Age</th>\n",
       "      <th>Education</th>\n",
       "      <th>Income</th>\n",
       "    </tr>\n",
       "  </thead>\n",
       "  <tbody>\n",
       "    <tr>\n",
       "      <th>0</th>\n",
       "      <td>0.0</td>\n",
       "      <td>1.0</td>\n",
       "      <td>1.0</td>\n",
       "      <td>1.0</td>\n",
       "      <td>40.0</td>\n",
       "      <td>1.0</td>\n",
       "      <td>0.0</td>\n",
       "      <td>0.0</td>\n",
       "      <td>0.0</td>\n",
       "      <td>0.0</td>\n",
       "      <td>...</td>\n",
       "      <td>1.0</td>\n",
       "      <td>0.0</td>\n",
       "      <td>5.0</td>\n",
       "      <td>18.0</td>\n",
       "      <td>15.0</td>\n",
       "      <td>1.0</td>\n",
       "      <td>0.0</td>\n",
       "      <td>9.0</td>\n",
       "      <td>4.0</td>\n",
       "      <td>3.0</td>\n",
       "    </tr>\n",
       "    <tr>\n",
       "      <th>1</th>\n",
       "      <td>0.0</td>\n",
       "      <td>0.0</td>\n",
       "      <td>0.0</td>\n",
       "      <td>0.0</td>\n",
       "      <td>25.0</td>\n",
       "      <td>1.0</td>\n",
       "      <td>0.0</td>\n",
       "      <td>0.0</td>\n",
       "      <td>1.0</td>\n",
       "      <td>0.0</td>\n",
       "      <td>...</td>\n",
       "      <td>0.0</td>\n",
       "      <td>1.0</td>\n",
       "      <td>3.0</td>\n",
       "      <td>0.0</td>\n",
       "      <td>0.0</td>\n",
       "      <td>0.0</td>\n",
       "      <td>0.0</td>\n",
       "      <td>7.0</td>\n",
       "      <td>6.0</td>\n",
       "      <td>1.0</td>\n",
       "    </tr>\n",
       "    <tr>\n",
       "      <th>2</th>\n",
       "      <td>0.0</td>\n",
       "      <td>1.0</td>\n",
       "      <td>1.0</td>\n",
       "      <td>1.0</td>\n",
       "      <td>28.0</td>\n",
       "      <td>0.0</td>\n",
       "      <td>0.0</td>\n",
       "      <td>0.0</td>\n",
       "      <td>0.0</td>\n",
       "      <td>1.0</td>\n",
       "      <td>...</td>\n",
       "      <td>1.0</td>\n",
       "      <td>1.0</td>\n",
       "      <td>5.0</td>\n",
       "      <td>30.0</td>\n",
       "      <td>30.0</td>\n",
       "      <td>1.0</td>\n",
       "      <td>0.0</td>\n",
       "      <td>9.0</td>\n",
       "      <td>4.0</td>\n",
       "      <td>8.0</td>\n",
       "    </tr>\n",
       "    <tr>\n",
       "      <th>3</th>\n",
       "      <td>0.0</td>\n",
       "      <td>1.0</td>\n",
       "      <td>0.0</td>\n",
       "      <td>1.0</td>\n",
       "      <td>27.0</td>\n",
       "      <td>0.0</td>\n",
       "      <td>0.0</td>\n",
       "      <td>0.0</td>\n",
       "      <td>1.0</td>\n",
       "      <td>1.0</td>\n",
       "      <td>...</td>\n",
       "      <td>1.0</td>\n",
       "      <td>0.0</td>\n",
       "      <td>2.0</td>\n",
       "      <td>0.0</td>\n",
       "      <td>0.0</td>\n",
       "      <td>0.0</td>\n",
       "      <td>0.0</td>\n",
       "      <td>11.0</td>\n",
       "      <td>3.0</td>\n",
       "      <td>6.0</td>\n",
       "    </tr>\n",
       "    <tr>\n",
       "      <th>4</th>\n",
       "      <td>0.0</td>\n",
       "      <td>1.0</td>\n",
       "      <td>1.0</td>\n",
       "      <td>1.0</td>\n",
       "      <td>24.0</td>\n",
       "      <td>0.0</td>\n",
       "      <td>0.0</td>\n",
       "      <td>0.0</td>\n",
       "      <td>1.0</td>\n",
       "      <td>1.0</td>\n",
       "      <td>...</td>\n",
       "      <td>1.0</td>\n",
       "      <td>0.0</td>\n",
       "      <td>2.0</td>\n",
       "      <td>3.0</td>\n",
       "      <td>0.0</td>\n",
       "      <td>0.0</td>\n",
       "      <td>0.0</td>\n",
       "      <td>11.0</td>\n",
       "      <td>5.0</td>\n",
       "      <td>4.0</td>\n",
       "    </tr>\n",
       "  </tbody>\n",
       "</table>\n",
       "<p>5 rows × 22 columns</p>\n",
       "</div>"
      ],
      "text/plain": [
       "   HeartDiseaseorAttack  HighBP  HighChol  CholCheck   BMI  Smoker  Stroke  \\\n",
       "0                   0.0     1.0       1.0        1.0  40.0     1.0     0.0   \n",
       "1                   0.0     0.0       0.0        0.0  25.0     1.0     0.0   \n",
       "2                   0.0     1.0       1.0        1.0  28.0     0.0     0.0   \n",
       "3                   0.0     1.0       0.0        1.0  27.0     0.0     0.0   \n",
       "4                   0.0     1.0       1.0        1.0  24.0     0.0     0.0   \n",
       "\n",
       "   Diabetes  PhysActivity  Fruits  ...  AnyHealthcare  NoDocbcCost  GenHlth  \\\n",
       "0       0.0           0.0     0.0  ...            1.0          0.0      5.0   \n",
       "1       0.0           1.0     0.0  ...            0.0          1.0      3.0   \n",
       "2       0.0           0.0     1.0  ...            1.0          1.0      5.0   \n",
       "3       0.0           1.0     1.0  ...            1.0          0.0      2.0   \n",
       "4       0.0           1.0     1.0  ...            1.0          0.0      2.0   \n",
       "\n",
       "   MentHlth  PhysHlth  DiffWalk  Sex   Age  Education  Income  \n",
       "0      18.0      15.0       1.0  0.0   9.0        4.0     3.0  \n",
       "1       0.0       0.0       0.0  0.0   7.0        6.0     1.0  \n",
       "2      30.0      30.0       1.0  0.0   9.0        4.0     8.0  \n",
       "3       0.0       0.0       0.0  0.0  11.0        3.0     6.0  \n",
       "4       3.0       0.0       0.0  0.0  11.0        5.0     4.0  \n",
       "\n",
       "[5 rows x 22 columns]"
      ]
     },
     "execution_count": 2,
     "metadata": {},
     "output_type": "execute_result"
    }
   ],
   "source": [
    "data = pd.read_csv('data/heart_disease_health_indicators_BRFSS2015.csv')\n",
    "data.head()"
   ]
  },
  {
   "cell_type": "code",
   "execution_count": 14,
   "id": "c22abf81",
   "metadata": {},
   "outputs": [
    {
     "name": "stdout",
     "output_type": "stream",
     "text": [
      "Độ phân biệt tổng thể: 0.1074\n"
     ]
    }
   ],
   "source": [
    "def calculate_discriminability_multivariate(X, y):\n",
    "    \"\"\"\n",
    "    Tính độ phân biệt cho dữ liệu nhiều chiều theo tiêu chuẩn Fisher's LDA\n",
    "    \n",
    "    Parameters:\n",
    "    -----------\n",
    "    X : array-like of shape (n_samples, n_features)\n",
    "        Dữ liệu features\n",
    "    y : array-like of shape (n_samples,)\n",
    "        Nhãn class (0 và 1)\n",
    "        \n",
    "    Returns:\n",
    "    --------\n",
    "    J : float\n",
    "        Độ đo phân biệt\n",
    "    \"\"\"\n",
    "    X1 = X[y == 1]\n",
    "    X0 = X[y == 0]\n",
    "    \n",
    "    # S_B\n",
    "    m1 = np.mean(X1, axis=0)\n",
    "    m0 = np.mean(X0, axis=0)\n",
    "    # S_B = \n",
    "    diff = (m1 - m0).reshape((-1,1))\n",
    "    S_B = diff.dot(diff.T)\n",
    "\n",
    "    # S_W\n",
    "    S1 = np.cov(X1, rowvar=False) \n",
    "    S0 = np.cov(X0, rowvar=False)\n",
    "    Sw = S1 + S0\n",
    "    \n",
    "    # discriminant\n",
    "    J = np.matrix.trace(S_B) / np.matrix.trace(Sw)\n",
    "    \n",
    "    return J\n",
    "\n",
    "# Chuẩn hóa dữ liệu\n",
    "scaler = StandardScaler()\n",
    "X_scaled = scaler.fit_transform(X_train1)\n",
    "\n",
    "# Tính và in độ phân biệt\n",
    "J = calculate_discriminability_multivariate(X_scaled, y_train1)\n",
    "print(f\"Độ phân biệt tổng thể: {J:.4f}\")"
   ]
  },
  {
   "cell_type": "markdown",
   "id": "471eb96d",
   "metadata": {},
   "source": [
    "Train test split:"
   ]
  },
  {
   "cell_type": "code",
   "execution_count": 3,
   "id": "a23b23df",
   "metadata": {},
   "outputs": [
    {
     "name": "stdout",
     "output_type": "stream",
     "text": [
      "(202944, 21) (50736, 21)\n",
      "(202944,) (50736,)\n"
     ]
    }
   ],
   "source": [
    "# split 1\n",
    "X, y = data.drop('HeartDiseaseorAttack', axis=1), data['HeartDiseaseorAttack']\n",
    "X_train1, X_val1, y_train1, y_val1 = train_test_split(X, y, train_size=0.8, random_state=42, stratify=y)\n",
    "print(X_train1.shape, X_val1.shape)\n",
    "print(y_train1.shape, y_val1.shape)"
   ]
  },
  {
   "cell_type": "code",
   "execution_count": 4,
   "id": "77747c53",
   "metadata": {},
   "outputs": [
    {
     "name": "stdout",
     "output_type": "stream",
     "text": [
      "(177576, 21) (76104, 21)\n",
      "(177576,) (76104,)\n"
     ]
    }
   ],
   "source": [
    "# split 2\n",
    "X_train2, X_val2, y_train2, y_val2 = train_test_split(X, y, train_size=0.7, random_state=42, stratify=y)\n",
    "print(X_train2.shape, X_val2.shape)\n",
    "print(y_train2.shape, y_val2.shape)"
   ]
  },
  {
   "cell_type": "code",
   "execution_count": 5,
   "id": "8bd2f79a",
   "metadata": {},
   "outputs": [
    {
     "name": "stdout",
     "output_type": "stream",
     "text": [
      "(152208, 21) (101472, 21)\n",
      "(152208,) (101472,)\n"
     ]
    }
   ],
   "source": [
    "# split 3\n",
    "X_train3, X_val3, y_train3, y_val3 = train_test_split(X, y, train_size=0.6, random_state=42, stratify=y)\n",
    "print(X_train3.shape, X_val3.shape)\n",
    "print(y_train3.shape, y_val3.shape)"
   ]
  },
  {
   "cell_type": "markdown",
   "id": "5ded54c6",
   "metadata": {},
   "source": [
    "## 1. Dealing with imbalanced dataset"
   ]
  },
  {
   "cell_type": "markdown",
   "id": "69684e98",
   "metadata": {},
   "source": [
    "#### 1.1. Oversampling:"
   ]
  },
  {
   "cell_type": "markdown",
   "id": "ac564f3a",
   "metadata": {},
   "source": [
    "a. Random oversampling"
   ]
  },
  {
   "cell_type": "code",
   "execution_count": 6,
   "id": "6eb069da",
   "metadata": {},
   "outputs": [],
   "source": [
    "def resample_data(X, y):\n",
    "    imbalanced_data = X.copy()\n",
    "    imbalanced_data['HeartDiseaseorAttack'] = y.copy()\n",
    "\n",
    "    minority_class = imbalanced_data[imbalanced_data['HeartDiseaseorAttack'] == 1.0]\n",
    "    majority_class = imbalanced_data[imbalanced_data['HeartDiseaseorAttack'] == 0.0]\n",
    "\n",
    "    # upsample the minority class\n",
    "    minority_upsampled = resample(minority_class, replace=True, n_samples=len(majority_class), random_state=42)\n",
    "\n",
    "    # combine the upsampled minority class with the majority class\n",
    "    balanced_data = pd.concat([majority_class, minority_upsampled])\n",
    "    X_ro, y_ro = balanced_data.drop('HeartDiseaseorAttack', axis=1), balanced_data['HeartDiseaseorAttack']\n",
    "    return X_ro, y_ro\n",
    "\n",
    "X_train1_ro, y_train1_ro = resample_data(X_train1, y_train1)\n",
    "X_train2_ro, y_train2_ro = resample_data(X_train2, y_train2)\n",
    "X_train3_ro, y_train3_ro = resample_data(X_train3, y_train3)"
   ]
  },
  {
   "cell_type": "markdown",
   "id": "00dab7d1",
   "metadata": {},
   "source": [
    "b. SMOTE (Synthetic Minority Over-sampling Technique)"
   ]
  },
  {
   "cell_type": "code",
   "execution_count": 13,
   "id": "31a22013",
   "metadata": {},
   "outputs": [],
   "source": [
    "# smote treat all features as numerical\n",
    "smote = SMOTE(sampling_strategy=0.8, random_state=42)\n",
    "X_train1_smote, y_train1_smote = smote.fit_resample(X_train1, y_train1)\n",
    "X_train2_smote, y_train2_smote = smote.fit_resample(X_train2, y_train2)\n",
    "X_train3_smote, y_train3_smote = smote.fit_resample(X_train3, y_train3)"
   ]
  },
  {
   "cell_type": "code",
   "execution_count": 62,
   "id": "a5f74f37",
   "metadata": {},
   "outputs": [],
   "source": [
    "# smotenc for numerical and categorical features\n",
    "smotenc = SMOTENC(random_state=42, categorical_features=['GenHlth', 'Age', 'Education','Income'])\n",
    "X_train_smotenc, y_train_smotenc = smotenc.fit_resample(X_train, y_train)"
   ]
  },
  {
   "cell_type": "markdown",
   "id": "dfc1fe86",
   "metadata": {},
   "source": [
    "c. ADASYN"
   ]
  },
  {
   "cell_type": "code",
   "execution_count": 25,
   "id": "01d944d7",
   "metadata": {},
   "outputs": [],
   "source": [
    "adasyn = ADASYN(random_state=42)\n",
    "X_train1_adasyn, y_train1_adasyn = adasyn.fit_resample(X_train1, y_train1)\n",
    "X_train2_adasyn, y_train2_adasyn = adasyn.fit_resample(X_train2, y_train2)\n",
    "X_train3_adasyn, y_train3_adasyn = adasyn.fit_resample(X_train3, y_train3)"
   ]
  },
  {
   "cell_type": "markdown",
   "id": "24816909",
   "metadata": {},
   "source": [
    "## 2. Models"
   ]
  },
  {
   "cell_type": "markdown",
   "id": "2ee7ec9c",
   "metadata": {},
   "source": [
    "#### 2.1. KNN"
   ]
  },
  {
   "cell_type": "markdown",
   "id": "0fcb4b64",
   "metadata": {},
   "source": [
    "Baseline:"
   ]
  },
  {
   "cell_type": "code",
   "execution_count": null,
   "id": "0e80f96f",
   "metadata": {},
   "outputs": [
    {
     "name": "stdout",
     "output_type": "stream",
     "text": [
      "              precision    recall  f1-score   support\n",
      "\n",
      "         0.0       0.91      0.99      0.95     45957\n",
      "         1.0       0.44      0.05      0.09      4779\n",
      "\n",
      "    accuracy                           0.90     50736\n",
      "   macro avg       0.68      0.52      0.52     50736\n",
      "weighted avg       0.87      0.90      0.87     50736\n",
      "\n"
     ]
    }
   ],
   "source": [
    "# 80% train, 20% val\n",
    "std_scaler = StandardScaler()\n",
    "X_train_scaled = std_scaler.fit_transform(X_train1)\n",
    "X_val_scaled = std_scaler.transform(X_val1)\n",
    "\n",
    "k = int(math.sqrt(X_train_scaled.shape[0]))\n",
    "knn = KNeighborsClassifier(n_neighbors=k, weights='distance')\n",
    "knn.fit(X_train_scaled, y_train1)\n",
    "\n",
    "## evaluate\n",
    "y_pred = knn.predict(X_val_scaled)\n",
    "print(classification_report(y_val1, y_pred))"
   ]
  },
  {
   "cell_type": "code",
   "execution_count": 15,
   "id": "2f28915b",
   "metadata": {},
   "outputs": [
    {
     "name": "stdout",
     "output_type": "stream",
     "text": [
      "              precision    recall  f1-score   support\n",
      "\n",
      "         0.0       0.91      0.99      0.95     68936\n",
      "         1.0       0.46      0.05      0.10      7168\n",
      "\n",
      "    accuracy                           0.90     76104\n",
      "   macro avg       0.68      0.52      0.52     76104\n",
      "weighted avg       0.87      0.90      0.87     76104\n",
      "\n"
     ]
    }
   ],
   "source": [
    "# 70% train, 30% val\n",
    "std_scaler = StandardScaler()\n",
    "X_train_scaled = std_scaler.fit_transform(X_train2)\n",
    "X_test_scaled = std_scaler.transform(X_val2)\n",
    "\n",
    "k = int(math.sqrt(X_train_scaled.shape[0]))\n",
    "knn = KNeighborsClassifier(n_neighbors=k, weights='distance')\n",
    "knn.fit(X_train_scaled, y_train2)\n",
    "\n",
    "y_pred = knn.predict(X_test_scaled)\n",
    "print(classification_report(y_val2, y_pred))"
   ]
  },
  {
   "cell_type": "code",
   "execution_count": 16,
   "id": "b2dee0b6",
   "metadata": {},
   "outputs": [
    {
     "name": "stdout",
     "output_type": "stream",
     "text": [
      "              precision    recall  f1-score   support\n",
      "\n",
      "         0.0       0.91      0.99      0.95     91915\n",
      "         1.0       0.47      0.05      0.09      9557\n",
      "\n",
      "    accuracy                           0.91    101472\n",
      "   macro avg       0.69      0.52      0.52    101472\n",
      "weighted avg       0.87      0.91      0.87    101472\n",
      "\n"
     ]
    }
   ],
   "source": [
    "# 60% train, 40% val\n",
    "std_scaler = StandardScaler()\n",
    "X_train_scaled = std_scaler.fit_transform(X_train3)\n",
    "X_test_scaled = std_scaler.transform(X_val3)\n",
    "\n",
    "k = int(math.sqrt(X_train_scaled.shape[0]))\n",
    "knn = KNeighborsClassifier(n_neighbors=k, weights='distance')\n",
    "knn.fit(X_train_scaled, y_train3)\n",
    "\n",
    "y_pred = knn.predict(X_test_scaled)\n",
    "print(classification_report(y_val3, y_pred))"
   ]
  },
  {
   "cell_type": "markdown",
   "id": "9b29df6c",
   "metadata": {},
   "source": [
    "Random oversampling:"
   ]
  },
  {
   "cell_type": "code",
   "execution_count": 17,
   "id": "734502fc",
   "metadata": {},
   "outputs": [
    {
     "name": "stdout",
     "output_type": "stream",
     "text": [
      "              precision    recall  f1-score   support\n",
      "\n",
      "         0.0       0.97      0.73      0.83     45957\n",
      "         1.0       0.23      0.79      0.36      4779\n",
      "\n",
      "    accuracy                           0.73     50736\n",
      "   macro avg       0.60      0.76      0.59     50736\n",
      "weighted avg       0.90      0.73      0.79     50736\n",
      "\n"
     ]
    }
   ],
   "source": [
    "# 80% train, 20% val\n",
    "\n",
    "std_scaler = StandardScaler()\n",
    "X_train_ro_scaled = std_scaler.fit_transform(X_train1_ro)\n",
    "X_test_scaled = std_scaler.transform(X_val1)\n",
    "\n",
    "k = int(math.sqrt(X_train1_ro.shape[0]))\n",
    "knn = KNeighborsClassifier(n_neighbors=k, weights='distance')\n",
    "knn.fit(X_train_ro_scaled, y_train1_ro)\n",
    "\n",
    "y_pred = knn.predict(X_test_scaled)\n",
    "print(classification_report(y_val1, y_pred))"
   ]
  },
  {
   "cell_type": "code",
   "execution_count": 19,
   "id": "619bb24c",
   "metadata": {},
   "outputs": [
    {
     "name": "stdout",
     "output_type": "stream",
     "text": [
      "              precision    recall  f1-score   support\n",
      "\n",
      "         0.0       0.97      0.72      0.83     68936\n",
      "         1.0       0.23      0.80      0.36      7168\n",
      "\n",
      "    accuracy                           0.73     76104\n",
      "   macro avg       0.60      0.76      0.59     76104\n",
      "weighted avg       0.90      0.73      0.78     76104\n",
      "\n"
     ]
    }
   ],
   "source": [
    "# 70% train, 30% val\n",
    "\n",
    "std_scaler = StandardScaler()\n",
    "X_train_ro_scaled = std_scaler.fit_transform(X_train2_ro)\n",
    "X_test_scaled = std_scaler.transform(X_val2)\n",
    "\n",
    "k = int(math.sqrt(X_train2_ro.shape[0]))\n",
    "knn = KNeighborsClassifier(n_neighbors=k, weights='distance')\n",
    "knn.fit(X_train_ro_scaled, y_train2_ro)\n",
    "\n",
    "y_pred = knn.predict(X_test_scaled)\n",
    "print(classification_report(y_val2, y_pred))"
   ]
  },
  {
   "cell_type": "code",
   "execution_count": 20,
   "id": "703498c9",
   "metadata": {},
   "outputs": [
    {
     "name": "stdout",
     "output_type": "stream",
     "text": [
      "              precision    recall  f1-score   support\n",
      "\n",
      "         0.0       0.97      0.72      0.83     91915\n",
      "         1.0       0.23      0.80      0.35      9557\n",
      "\n",
      "    accuracy                           0.73    101472\n",
      "   macro avg       0.60      0.76      0.59    101472\n",
      "weighted avg       0.90      0.73      0.78    101472\n",
      "\n"
     ]
    }
   ],
   "source": [
    "# 60% train, 40% val\n",
    "\n",
    "std_scaler = StandardScaler()\n",
    "X_train_ro_scaled = std_scaler.fit_transform(X_train3_ro)\n",
    "X_test_scaled = std_scaler.transform(X_val3)\n",
    "\n",
    "k = int(math.sqrt(X_train3_ro.shape[0]))\n",
    "knn = KNeighborsClassifier(n_neighbors=k, weights='distance')\n",
    "knn.fit(X_train_ro_scaled, y_train3_ro)\n",
    "\n",
    "y_pred = knn.predict(X_test_scaled)\n",
    "print(classification_report(y_val3, y_pred))"
   ]
  },
  {
   "cell_type": "markdown",
   "id": "44861333",
   "metadata": {},
   "source": [
    "SMOTE:"
   ]
  },
  {
   "cell_type": "code",
   "execution_count": 14,
   "id": "d90864d4",
   "metadata": {},
   "outputs": [
    {
     "name": "stdout",
     "output_type": "stream",
     "text": [
      "              precision    recall  f1-score   support\n",
      "\n",
      "         0.0       0.96      0.78      0.86     45957\n",
      "         1.0       0.25      0.71      0.37      4779\n",
      "\n",
      "    accuracy                           0.77     50736\n",
      "   macro avg       0.61      0.74      0.61     50736\n",
      "weighted avg       0.90      0.77      0.81     50736\n",
      "\n"
     ]
    }
   ],
   "source": [
    "# 80% train 20% val\n",
    "std_scaler = StandardScaler()\n",
    "X_train_smote_scaled = std_scaler.fit_transform(X_train1_smote)\n",
    "X_val_scaled = std_scaler.transform(X_val1)\n",
    "\n",
    "k = int(math.sqrt(X_train1_smote.shape[0]))\n",
    "knn = KNeighborsClassifier(n_neighbors=k, weights='distance')\n",
    "knn.fit(X_train_smote_scaled, y_train1_smote)\n",
    "\n",
    "y_pred = knn.predict(X_val_scaled)\n",
    "print(classification_report(y_val1, y_pred))"
   ]
  },
  {
   "cell_type": "code",
   "execution_count": 23,
   "id": "bb7e156e",
   "metadata": {},
   "outputs": [
    {
     "name": "stdout",
     "output_type": "stream",
     "text": [
      "              precision    recall  f1-score   support\n",
      "\n",
      "         0.0       0.97      0.74      0.84     68936\n",
      "         1.0       0.23      0.77      0.36      7168\n",
      "\n",
      "    accuracy                           0.74     76104\n",
      "   macro avg       0.60      0.75      0.60     76104\n",
      "weighted avg       0.90      0.74      0.79     76104\n",
      "\n"
     ]
    }
   ],
   "source": [
    "# 70% train 30% val\n",
    "std_scaler = StandardScaler()\n",
    "X_train_smote_scaled = std_scaler.fit_transform(X_train2_smote)\n",
    "X_val_scaled = std_scaler.transform(X_val2)\n",
    "\n",
    "k = int(math.sqrt(X_train2_smote.shape[0]))\n",
    "knn = KNeighborsClassifier(n_neighbors=k, weights='distance')\n",
    "knn.fit(X_train_smote_scaled, y_train2_smote)\n",
    "\n",
    "y_pred = knn.predict(X_val_scaled)\n",
    "print(classification_report(y_val2, y_pred))"
   ]
  },
  {
   "cell_type": "code",
   "execution_count": 24,
   "id": "aac20b27",
   "metadata": {},
   "outputs": [
    {
     "name": "stdout",
     "output_type": "stream",
     "text": [
      "              precision    recall  f1-score   support\n",
      "\n",
      "         0.0       0.97      0.73      0.83     91915\n",
      "         1.0       0.23      0.78      0.36      9557\n",
      "\n",
      "    accuracy                           0.73    101472\n",
      "   macro avg       0.60      0.75      0.59    101472\n",
      "weighted avg       0.90      0.73      0.79    101472\n",
      "\n"
     ]
    }
   ],
   "source": [
    "# 60% train 40% val\n",
    "std_scaler = StandardScaler()\n",
    "X_train_smote_scaled = std_scaler.fit_transform(X_train3_smote)\n",
    "X_val_scaled = std_scaler.transform(X_val3)\n",
    "\n",
    "k = int(math.sqrt(X_train3_smote.shape[0]))\n",
    "knn = KNeighborsClassifier(n_neighbors=k, weights='distance')\n",
    "knn.fit(X_train_smote_scaled, y_train3_smote)\n",
    "\n",
    "y_pred = knn.predict(X_val_scaled)\n",
    "print(classification_report(y_val3, y_pred))"
   ]
  },
  {
   "cell_type": "markdown",
   "id": "8b7409c0",
   "metadata": {},
   "source": [
    "SMOTENC:"
   ]
  },
  {
   "cell_type": "code",
   "execution_count": 63,
   "id": "3a2129d5",
   "metadata": {},
   "outputs": [
    {
     "name": "stdout",
     "output_type": "stream",
     "text": [
      "              precision    recall  f1-score   support\n",
      "\n",
      "         0.0       0.97      0.73      0.83     45957\n",
      "         1.0       0.23      0.77      0.35      4779\n",
      "\n",
      "    accuracy                           0.74     50736\n",
      "   macro avg       0.60      0.75      0.59     50736\n",
      "weighted avg       0.90      0.74      0.79     50736\n",
      "\n"
     ]
    }
   ],
   "source": [
    "std_scaler = StandardScaler()\n",
    "X_train_smotenc_scaled = std_scaler.fit_transform(X_train_smotenc)\n",
    "X_test_scaled = std_scaler.transform(X_test)\n",
    "\n",
    "k = int(math.sqrt(X_train_smotenc.shape[0]))\n",
    "knn = KNeighborsClassifier(n_neighbors=k, weights='distance')\n",
    "knn.fit(X_train_smotenc_scaled, y_train_smotenc)\n",
    "\n",
    "y_pred = knn.predict(X_test_scaled)\n",
    "print(classification_report(y_test, y_pred))"
   ]
  },
  {
   "cell_type": "markdown",
   "id": "8cab3246",
   "metadata": {},
   "source": [
    "ADASYN:"
   ]
  },
  {
   "cell_type": "code",
   "execution_count": 26,
   "id": "709e3596",
   "metadata": {},
   "outputs": [
    {
     "name": "stdout",
     "output_type": "stream",
     "text": [
      "              precision    recall  f1-score   support\n",
      "\n",
      "         0.0       0.97      0.73      0.83     45957\n",
      "         1.0       0.23      0.78      0.35      4779\n",
      "\n",
      "    accuracy                           0.73     50736\n",
      "   macro avg       0.60      0.75      0.59     50736\n",
      "weighted avg       0.90      0.73      0.79     50736\n",
      "\n"
     ]
    }
   ],
   "source": [
    "# 80% train 20% val\n",
    "std_scaler = StandardScaler()\n",
    "X_train_adasyn_scaled = std_scaler.fit_transform(X_train1_adasyn)\n",
    "X_test_scaled = std_scaler.transform(X_val1)\n",
    "\n",
    "k = int(math.sqrt(X_train1_adasyn.shape[0]))\n",
    "knn = KNeighborsClassifier(n_neighbors=k, weights='distance')\n",
    "knn.fit(X_train_adasyn_scaled, y_train1_adasyn)\n",
    "\n",
    "y_pred = knn.predict(X_test_scaled)\n",
    "print(classification_report(y_val1, y_pred))"
   ]
  },
  {
   "cell_type": "code",
   "execution_count": 27,
   "id": "673b2f7e",
   "metadata": {},
   "outputs": [
    {
     "name": "stdout",
     "output_type": "stream",
     "text": [
      "              precision    recall  f1-score   support\n",
      "\n",
      "         0.0       0.97      0.72      0.83     68936\n",
      "         1.0       0.23      0.79      0.35      7168\n",
      "\n",
      "    accuracy                           0.73     76104\n",
      "   macro avg       0.60      0.75      0.59     76104\n",
      "weighted avg       0.90      0.73      0.78     76104\n",
      "\n"
     ]
    }
   ],
   "source": [
    "# 70% train 30% val\n",
    "std_scaler = StandardScaler()\n",
    "X_train_adasyn_scaled = std_scaler.fit_transform(X_train2_adasyn)\n",
    "X_test_scaled = std_scaler.transform(X_val2)\n",
    "\n",
    "k = int(math.sqrt(X_train2_adasyn.shape[0]))\n",
    "knn = KNeighborsClassifier(n_neighbors=k, weights='distance')\n",
    "knn.fit(X_train_adasyn_scaled, y_train2_adasyn)\n",
    "\n",
    "y_pred = knn.predict(X_test_scaled)\n",
    "print(classification_report(y_val2, y_pred))"
   ]
  },
  {
   "cell_type": "code",
   "execution_count": 28,
   "id": "983452a7",
   "metadata": {},
   "outputs": [
    {
     "name": "stdout",
     "output_type": "stream",
     "text": [
      "              precision    recall  f1-score   support\n",
      "\n",
      "         0.0       0.97      0.72      0.82     91915\n",
      "         1.0       0.23      0.79      0.35      9557\n",
      "\n",
      "    accuracy                           0.72    101472\n",
      "   macro avg       0.60      0.75      0.59    101472\n",
      "weighted avg       0.90      0.72      0.78    101472\n",
      "\n"
     ]
    }
   ],
   "source": [
    "# 60% train 40% val\n",
    "std_scaler = StandardScaler()\n",
    "X_train_adasyn_scaled = std_scaler.fit_transform(X_train3_adasyn)\n",
    "X_test_scaled = std_scaler.transform(X_val3)\n",
    "\n",
    "k = int(math.sqrt(X_train3_adasyn.shape[0]))\n",
    "knn = KNeighborsClassifier(n_neighbors=k, weights='distance')\n",
    "knn.fit(X_train_adasyn_scaled, y_train3_adasyn)\n",
    "\n",
    "y_pred = knn.predict(X_test_scaled)\n",
    "print(classification_report(y_val3, y_pred))"
   ]
  },
  {
   "cell_type": "markdown",
   "id": "2f4bf5f7",
   "metadata": {},
   "source": [
    "Random Undersampling:"
   ]
  },
  {
   "cell_type": "code",
   "execution_count": 19,
   "id": "1b3afd9f",
   "metadata": {},
   "outputs": [
    {
     "name": "stdout",
     "output_type": "stream",
     "text": [
      "              precision    recall  f1-score   support\n",
      "\n",
      "         0.0       0.97      0.72      0.83     45957\n",
      "         1.0       0.23      0.80      0.36      4779\n",
      "\n",
      "    accuracy                           0.73     50736\n",
      "   macro avg       0.60      0.76      0.59     50736\n",
      "weighted avg       0.90      0.73      0.78     50736\n",
      "\n"
     ]
    }
   ],
   "source": [
    "# 60% train 40% val\n",
    "std_scaler = StandardScaler()\n",
    "X_train_ru_scaled = std_scaler.fit_transform(X_train1_ru)\n",
    "X_test_scaled = std_scaler.transform(X_val1)\n",
    "\n",
    "k = int(math.sqrt(X_train1_ru.shape[0]))\n",
    "knn = KNeighborsClassifier(n_neighbors=k, weights='distance')\n",
    "knn.fit(X_train_ru_scaled, y_train1_ru)\n",
    "\n",
    "y_pred = knn.predict(X_test_scaled)\n",
    "print(classification_report(y_val1, y_pred))"
   ]
  },
  {
   "cell_type": "markdown",
   "id": "3aa0509b",
   "metadata": {},
   "source": [
    "#### 2.2. Logistic regression"
   ]
  },
  {
   "cell_type": "markdown",
   "id": "b479bc3f",
   "metadata": {},
   "source": [
    "##### a. Without resampling"
   ]
  },
  {
   "cell_type": "markdown",
   "id": "c5ed2029",
   "metadata": {},
   "source": [
    "LBFGS solver:"
   ]
  },
  {
   "cell_type": "code",
   "execution_count": 29,
   "id": "15dae7f2",
   "metadata": {},
   "outputs": [
    {
     "name": "stdout",
     "output_type": "stream",
     "text": [
      "              precision    recall  f1-score   support\n",
      "\n",
      "         0.0       0.92      0.99      0.95     45957\n",
      "         1.0       0.53      0.13      0.20      4779\n",
      "\n",
      "    accuracy                           0.91     50736\n",
      "   macro avg       0.72      0.56      0.58     50736\n",
      "weighted avg       0.88      0.91      0.88     50736\n",
      "\n"
     ]
    }
   ],
   "source": [
    "# 80% train 20% val\n",
    "std_scaler = StandardScaler()\n",
    "X_train_scaled = std_scaler.fit_transform(X_train1)\n",
    "X_test_scaled = std_scaler.transform(X_val1)\n",
    "\n",
    "log_reg = LogisticRegression()\n",
    "log_reg.fit(X_train_scaled, y_train1)\n",
    "\n",
    "y_pred = log_reg.predict(X_test_scaled)\n",
    "print(classification_report(y_val1, y_pred))"
   ]
  },
  {
   "cell_type": "code",
   "execution_count": 30,
   "id": "8e02e554",
   "metadata": {},
   "outputs": [
    {
     "name": "stdout",
     "output_type": "stream",
     "text": [
      "              precision    recall  f1-score   support\n",
      "\n",
      "         0.0       0.92      0.99      0.95     68936\n",
      "         1.0       0.53      0.13      0.21      7168\n",
      "\n",
      "    accuracy                           0.91     76104\n",
      "   macro avg       0.72      0.56      0.58     76104\n",
      "weighted avg       0.88      0.91      0.88     76104\n",
      "\n"
     ]
    }
   ],
   "source": [
    "# 70% train 30% val\n",
    "std_scaler = StandardScaler()\n",
    "X_train_scaled = std_scaler.fit_transform(X_train2)\n",
    "X_test_scaled = std_scaler.transform(X_val2)\n",
    "\n",
    "log_reg = LogisticRegression()\n",
    "log_reg.fit(X_train_scaled, y_train2)\n",
    "\n",
    "y_pred = log_reg.predict(X_test_scaled)\n",
    "print(classification_report(y_val2, y_pred))"
   ]
  },
  {
   "cell_type": "code",
   "execution_count": 31,
   "id": "f808237e",
   "metadata": {},
   "outputs": [
    {
     "name": "stdout",
     "output_type": "stream",
     "text": [
      "              precision    recall  f1-score   support\n",
      "\n",
      "         0.0       0.92      0.99      0.95     91915\n",
      "         1.0       0.54      0.13      0.21      9557\n",
      "\n",
      "    accuracy                           0.91    101472\n",
      "   macro avg       0.73      0.56      0.58    101472\n",
      "weighted avg       0.88      0.91      0.88    101472\n",
      "\n"
     ]
    }
   ],
   "source": [
    "# 60% train 40% val\n",
    "std_scaler = StandardScaler()\n",
    "X_train_scaled = std_scaler.fit_transform(X_train3)\n",
    "X_test_scaled = std_scaler.transform(X_val3)\n",
    "\n",
    "log_reg = LogisticRegression()\n",
    "log_reg.fit(X_train_scaled, y_train3)\n",
    "\n",
    "y_pred = log_reg.predict(X_test_scaled)\n",
    "print(classification_report(y_val3, y_pred))"
   ]
  },
  {
   "cell_type": "markdown",
   "id": "13668220",
   "metadata": {},
   "source": [
    "SGD solver:"
   ]
  },
  {
   "cell_type": "code",
   "execution_count": 32,
   "id": "abda7eeb",
   "metadata": {},
   "outputs": [
    {
     "name": "stdout",
     "output_type": "stream",
     "text": [
      "              precision    recall  f1-score   support\n",
      "\n",
      "         0.0       0.92      0.98      0.95     45957\n",
      "         1.0       0.50      0.16      0.24      4779\n",
      "\n",
      "    accuracy                           0.91     50736\n",
      "   macro avg       0.71      0.57      0.59     50736\n",
      "weighted avg       0.88      0.91      0.88     50736\n",
      "\n"
     ]
    }
   ],
   "source": [
    "# 80% train 20% val\n",
    "std_scaler = StandardScaler()\n",
    "X_train_scaled = std_scaler.fit_transform(X_train1)\n",
    "X_test_scaled = std_scaler.transform(X_val1)\n",
    "\n",
    "sgd_clf = SGDClassifier(loss='log_loss')\n",
    "sgd_clf.fit(X_train_scaled, y_train1)\n",
    "\n",
    "y_pred = sgd_clf.predict(X_test_scaled)\n",
    "print(classification_report(y_val1, y_pred))"
   ]
  },
  {
   "cell_type": "code",
   "execution_count": 33,
   "id": "20d3b2eb",
   "metadata": {},
   "outputs": [
    {
     "name": "stdout",
     "output_type": "stream",
     "text": [
      "              precision    recall  f1-score   support\n",
      "\n",
      "         0.0       0.92      0.98      0.95     68936\n",
      "         1.0       0.49      0.19      0.27      7168\n",
      "\n",
      "    accuracy                           0.91     76104\n",
      "   macro avg       0.71      0.58      0.61     76104\n",
      "weighted avg       0.88      0.91      0.89     76104\n",
      "\n"
     ]
    }
   ],
   "source": [
    "# 70% train 30% val\n",
    "std_scaler = StandardScaler()\n",
    "X_train_scaled = std_scaler.fit_transform(X_train2)\n",
    "X_test_scaled = std_scaler.transform(X_val2)\n",
    "\n",
    "sgd_clf = SGDClassifier(loss='log_loss')\n",
    "sgd_clf.fit(X_train_scaled, y_train2)\n",
    "\n",
    "y_pred = sgd_clf.predict(X_test_scaled)\n",
    "print(classification_report(y_val2, y_pred))"
   ]
  },
  {
   "cell_type": "code",
   "execution_count": 34,
   "id": "fee3d198",
   "metadata": {},
   "outputs": [
    {
     "name": "stdout",
     "output_type": "stream",
     "text": [
      "              precision    recall  f1-score   support\n",
      "\n",
      "         0.0       0.91      0.99      0.95     91915\n",
      "         1.0       0.53      0.10      0.17      9557\n",
      "\n",
      "    accuracy                           0.91    101472\n",
      "   macro avg       0.72      0.55      0.56    101472\n",
      "weighted avg       0.88      0.91      0.88    101472\n",
      "\n"
     ]
    }
   ],
   "source": [
    "# 60% train 40% val\n",
    "std_scaler = StandardScaler()\n",
    "X_train_scaled = std_scaler.fit_transform(X_train3)\n",
    "X_test_scaled = std_scaler.transform(X_val3)\n",
    "\n",
    "sgd_clf = SGDClassifier(loss='log_loss')\n",
    "sgd_clf.fit(X_train_scaled, y_train3)\n",
    "\n",
    "y_pred = sgd_clf.predict(X_test_scaled)\n",
    "print(classification_report(y_val3, y_pred))"
   ]
  },
  {
   "cell_type": "markdown",
   "id": "baea5f9a",
   "metadata": {},
   "source": [
    "##### b. Using resampling"
   ]
  },
  {
   "cell_type": "markdown",
   "id": "52f52327",
   "metadata": {},
   "source": [
    "Random oversampling:"
   ]
  },
  {
   "cell_type": "code",
   "execution_count": 35,
   "id": "e8885162",
   "metadata": {},
   "outputs": [
    {
     "name": "stdout",
     "output_type": "stream",
     "text": [
      "              precision    recall  f1-score   support\n",
      "\n",
      "         0.0       0.97      0.75      0.85     45957\n",
      "         1.0       0.25      0.80      0.38      4779\n",
      "\n",
      "    accuracy                           0.75     50736\n",
      "   macro avg       0.61      0.77      0.61     50736\n",
      "weighted avg       0.90      0.75      0.80     50736\n",
      "\n"
     ]
    }
   ],
   "source": [
    "# 80% train 20% val\n",
    "std_scaler = StandardScaler()\n",
    "X_train_ro_scaled = std_scaler.fit_transform(X_train1_ro)\n",
    "X_test_scaled = std_scaler.transform(X_val1)\n",
    "\n",
    "log_reg = LogisticRegression()\n",
    "log_reg.fit(X_train_ro_scaled, y_train1_ro)\n",
    "\n",
    "y_pred = log_reg.predict(X_test_scaled)\n",
    "print(classification_report(y_val1, y_pred))"
   ]
  },
  {
   "cell_type": "code",
   "execution_count": 38,
   "id": "1dc4c5f4",
   "metadata": {},
   "outputs": [
    {
     "name": "stdout",
     "output_type": "stream",
     "text": [
      "              precision    recall  f1-score   support\n",
      "\n",
      "         0.0       0.97      0.75      0.84     68936\n",
      "         1.0       0.25      0.80      0.38      7168\n",
      "\n",
      "    accuracy                           0.75     76104\n",
      "   macro avg       0.61      0.77      0.61     76104\n",
      "weighted avg       0.90      0.75      0.80     76104\n",
      "\n"
     ]
    }
   ],
   "source": [
    "# 70% train 30% val\n",
    "std_scaler = StandardScaler()\n",
    "X_train_ro_scaled = std_scaler.fit_transform(X_train2_ro)\n",
    "X_test_scaled = std_scaler.transform(X_val2)\n",
    "\n",
    "log_reg = LogisticRegression()\n",
    "log_reg.fit(X_train_ro_scaled, y_train2_ro)\n",
    "\n",
    "y_pred = log_reg.predict(X_test_scaled)\n",
    "print(classification_report(y_val2, y_pred))"
   ]
  },
  {
   "cell_type": "code",
   "execution_count": 39,
   "id": "8cec18be",
   "metadata": {},
   "outputs": [
    {
     "name": "stdout",
     "output_type": "stream",
     "text": [
      "              precision    recall  f1-score   support\n",
      "\n",
      "         0.0       0.97      0.75      0.84     91915\n",
      "         1.0       0.25      0.80      0.38      9557\n",
      "\n",
      "    accuracy                           0.75    101472\n",
      "   macro avg       0.61      0.77      0.61    101472\n",
      "weighted avg       0.90      0.75      0.80    101472\n",
      "\n"
     ]
    }
   ],
   "source": [
    "# 60% train 40% val\n",
    "std_scaler = StandardScaler()\n",
    "X_train_ro_scaled = std_scaler.fit_transform(X_train3_ro)\n",
    "X_test_scaled = std_scaler.transform(X_val3)\n",
    "\n",
    "log_reg = LogisticRegression()\n",
    "log_reg.fit(X_train_ro_scaled, y_train3_ro)\n",
    "\n",
    "y_pred = log_reg.predict(X_test_scaled)\n",
    "print(classification_report(y_val3, y_pred))"
   ]
  },
  {
   "cell_type": "code",
   "execution_count": 37,
   "id": "47448181",
   "metadata": {},
   "outputs": [
    {
     "name": "stdout",
     "output_type": "stream",
     "text": [
      "              precision    recall  f1-score   support\n",
      "\n",
      "         0.0       0.97      0.76      0.85     45957\n",
      "         1.0       0.25      0.79      0.38      4779\n",
      "\n",
      "    accuracy                           0.76     50736\n",
      "   macro avg       0.61      0.77      0.62     50736\n",
      "weighted avg       0.90      0.76      0.81     50736\n",
      "\n"
     ]
    }
   ],
   "source": [
    "std_scaler = StandardScaler()\n",
    "X_train_ro_scaled = std_scaler.fit_transform(X_train1_ro)\n",
    "X_test_scaled = std_scaler.transform(X_val1)\n",
    "\n",
    "sgd_clf = SGDClassifier(loss='log_loss')\n",
    "sgd_clf.fit(X_train_ro_scaled, y_train1_ro)\n",
    "\n",
    "y_pred = sgd_clf.predict(X_test_scaled)\n",
    "print(classification_report(y_val1, y_pred))"
   ]
  },
  {
   "cell_type": "markdown",
   "id": "8c89155b",
   "metadata": {},
   "source": [
    "SMOTE:"
   ]
  },
  {
   "cell_type": "code",
   "execution_count": 40,
   "id": "3114d19f",
   "metadata": {},
   "outputs": [
    {
     "name": "stdout",
     "output_type": "stream",
     "text": [
      "              precision    recall  f1-score   support\n",
      "\n",
      "         0.0       0.97      0.75      0.85     45957\n",
      "         1.0       0.25      0.78      0.38      4779\n",
      "\n",
      "    accuracy                           0.76     50736\n",
      "   macro avg       0.61      0.77      0.61     50736\n",
      "weighted avg       0.90      0.76      0.80     50736\n",
      "\n"
     ]
    }
   ],
   "source": [
    "# 80% train 20% val\n",
    "std_scaler = StandardScaler()\n",
    "X_train_smote_scaled = std_scaler.fit_transform(X_train1_smote)\n",
    "X_val_scaled = std_scaler.transform(X_val1)\n",
    "\n",
    "log_reg = LogisticRegression()\n",
    "log_reg.fit(X_train_smote_scaled, y_train1_smote)\n",
    "\n",
    "y_pred = log_reg.predict(X_val_scaled)\n",
    "print(classification_report(y_val1, y_pred))"
   ]
  },
  {
   "cell_type": "code",
   "execution_count": 41,
   "id": "c1ff9280",
   "metadata": {},
   "outputs": [
    {
     "name": "stdout",
     "output_type": "stream",
     "text": [
      "              precision    recall  f1-score   support\n",
      "\n",
      "         0.0       0.97      0.75      0.85     68936\n",
      "         1.0       0.25      0.78      0.38      7168\n",
      "\n",
      "    accuracy                           0.76     76104\n",
      "   macro avg       0.61      0.77      0.61     76104\n",
      "weighted avg       0.90      0.76      0.80     76104\n",
      "\n"
     ]
    }
   ],
   "source": [
    "# 70% train 30% val\n",
    "std_scaler = StandardScaler()\n",
    "X_train_smote_scaled = std_scaler.fit_transform(X_train2_smote)\n",
    "X_val_scaled = std_scaler.transform(X_val2)\n",
    "\n",
    "log_reg = LogisticRegression()\n",
    "log_reg.fit(X_train_smote_scaled, y_train2_smote)\n",
    "\n",
    "y_pred = log_reg.predict(X_val_scaled)\n",
    "print(classification_report(y_val2, y_pred))"
   ]
  },
  {
   "cell_type": "code",
   "execution_count": 42,
   "id": "90f39da4",
   "metadata": {},
   "outputs": [
    {
     "name": "stdout",
     "output_type": "stream",
     "text": [
      "              precision    recall  f1-score   support\n",
      "\n",
      "         0.0       0.97      0.75      0.85     91915\n",
      "         1.0       0.25      0.78      0.38      9557\n",
      "\n",
      "    accuracy                           0.75    101472\n",
      "   macro avg       0.61      0.77      0.61    101472\n",
      "weighted avg       0.90      0.75      0.80    101472\n",
      "\n"
     ]
    }
   ],
   "source": [
    "# 60% train 40% val\n",
    "std_scaler = StandardScaler()\n",
    "X_train_smote_scaled = std_scaler.fit_transform(X_train3_smote)\n",
    "X_val_scaled = std_scaler.transform(X_val3)\n",
    "\n",
    "log_reg = LogisticRegression()\n",
    "log_reg.fit(X_train_smote_scaled, y_train3_smote)\n",
    "\n",
    "y_pred = log_reg.predict(X_val_scaled)\n",
    "print(classification_report(y_val3, y_pred))"
   ]
  },
  {
   "cell_type": "code",
   "execution_count": null,
   "id": "83723b8c",
   "metadata": {},
   "outputs": [
    {
     "name": "stdout",
     "output_type": "stream",
     "text": [
      "              precision    recall  f1-score   support\n",
      "\n",
      "         0.0       0.97      0.77      0.86     45957\n",
      "         1.0       0.26      0.77      0.38      4779\n",
      "\n",
      "    accuracy                           0.77     50736\n",
      "   macro avg       0.61      0.77      0.62     50736\n",
      "weighted avg       0.90      0.77      0.81     50736\n",
      "\n"
     ]
    }
   ],
   "source": [
    "std_scaler = StandardScaler()\n",
    "X_train_smote_scaled = std_scaler.fit_transform(X_train1_smote)\n",
    "X_val_scaled = std_scaler.transform(X_val1)\n",
    "\n",
    "sgd_clf = SGDClassifier(loss='log_loss')\n",
    "sgd_clf.fit(X_train_smote_scaled, y_train1_smote)\n",
    "\n",
    "y_pred = sgd_clf.predict(X_val_scaled)\n",
    "print(classification_report(y_val1, y_pred))"
   ]
  },
  {
   "cell_type": "markdown",
   "id": "194fb41d",
   "metadata": {},
   "source": [
    "ADASYN:"
   ]
  },
  {
   "cell_type": "code",
   "execution_count": 43,
   "id": "e8f48072",
   "metadata": {},
   "outputs": [
    {
     "name": "stdout",
     "output_type": "stream",
     "text": [
      "              precision    recall  f1-score   support\n",
      "\n",
      "         0.0       0.97      0.74      0.84     45957\n",
      "         1.0       0.24      0.80      0.37      4779\n",
      "\n",
      "    accuracy                           0.75     50736\n",
      "   macro avg       0.61      0.77      0.61     50736\n",
      "weighted avg       0.90      0.75      0.80     50736\n",
      "\n"
     ]
    }
   ],
   "source": [
    "# 80% train 20% val\n",
    "std_scaler = StandardScaler()\n",
    "X_train_adasyn_scaled = std_scaler.fit_transform(X_train1_adasyn)\n",
    "X_val_scaled = std_scaler.transform(X_val1)\n",
    "\n",
    "log_reg = LogisticRegression()\n",
    "log_reg.fit(X_train_adasyn_scaled, y_train1_adasyn)\n",
    "\n",
    "y_pred = log_reg.predict(X_val_scaled)\n",
    "print(classification_report(y_val1, y_pred))"
   ]
  },
  {
   "cell_type": "code",
   "execution_count": 44,
   "id": "d5b589aa",
   "metadata": {},
   "outputs": [
    {
     "name": "stdout",
     "output_type": "stream",
     "text": [
      "              precision    recall  f1-score   support\n",
      "\n",
      "         0.0       0.97      0.74      0.84     68936\n",
      "         1.0       0.24      0.80      0.37      7168\n",
      "\n",
      "    accuracy                           0.74     76104\n",
      "   macro avg       0.61      0.77      0.60     76104\n",
      "weighted avg       0.90      0.74      0.80     76104\n",
      "\n"
     ]
    }
   ],
   "source": [
    "# 70% train 30% val\n",
    "std_scaler = StandardScaler()\n",
    "X_train_adasyn_scaled = std_scaler.fit_transform(X_train2_adasyn)\n",
    "X_val_scaled = std_scaler.transform(X_val2)\n",
    "\n",
    "log_reg = LogisticRegression()\n",
    "log_reg.fit(X_train_adasyn_scaled, y_train2_adasyn)\n",
    "\n",
    "y_pred = log_reg.predict(X_val_scaled)\n",
    "print(classification_report(y_val2, y_pred))"
   ]
  },
  {
   "cell_type": "code",
   "execution_count": 45,
   "id": "f2a6ccaa",
   "metadata": {},
   "outputs": [
    {
     "name": "stdout",
     "output_type": "stream",
     "text": [
      "              precision    recall  f1-score   support\n",
      "\n",
      "         0.0       0.97      0.74      0.84     91915\n",
      "         1.0       0.24      0.80      0.37      9557\n",
      "\n",
      "    accuracy                           0.74    101472\n",
      "   macro avg       0.61      0.77      0.60    101472\n",
      "weighted avg       0.90      0.74      0.79    101472\n",
      "\n"
     ]
    }
   ],
   "source": [
    "# 60% train 40% val\n",
    "std_scaler = StandardScaler()\n",
    "X_train_adasyn_scaled = std_scaler.fit_transform(X_train3_adasyn)\n",
    "X_val_scaled = std_scaler.transform(X_val3)\n",
    "\n",
    "log_reg = LogisticRegression()\n",
    "log_reg.fit(X_train_adasyn_scaled, y_train3_adasyn)\n",
    "\n",
    "y_pred = log_reg.predict(X_val_scaled)\n",
    "print(classification_report(y_val3, y_pred))"
   ]
  },
  {
   "cell_type": "code",
   "execution_count": 94,
   "id": "5bea4cf4",
   "metadata": {},
   "outputs": [
    {
     "name": "stdout",
     "output_type": "stream",
     "text": [
      "              precision    recall  f1-score   support\n",
      "\n",
      "         0.0       0.97      0.73      0.84     45957\n",
      "         1.0       0.24      0.80      0.37      4779\n",
      "\n",
      "    accuracy                           0.74     50736\n",
      "   macro avg       0.61      0.77      0.60     50736\n",
      "weighted avg       0.90      0.74      0.79     50736\n",
      "\n"
     ]
    }
   ],
   "source": [
    "std_scaler = StandardScaler()\n",
    "X_train_adasyn_scaled = std_scaler.fit_transform(X_train_adasyn)\n",
    "X_test_scaled = std_scaler.transform(X_test)\n",
    "\n",
    "sgd_clf = SGDClassifier(loss='log_loss')\n",
    "sgd_clf.fit(X_train_adasyn_scaled, y_train_adasyn)\n",
    "\n",
    "y_pred = sgd_clf.predict(X_test_scaled)\n",
    "print(classification_report(y_test, y_pred))"
   ]
  },
  {
   "cell_type": "markdown",
   "id": "b0a15f64",
   "metadata": {},
   "source": [
    "## 3. ROC curve"
   ]
  },
  {
   "cell_type": "code",
   "execution_count": 8,
   "id": "8454d6d9",
   "metadata": {},
   "outputs": [
    {
     "data": {
      "image/png": "[encoded data removed]",
      "text/plain": [
       "<Figure size 1200x800 with 1 Axes>"
      ]
     },
     "metadata": {},
     "output_type": "display_data"
    },
    {
     "data": {
      "image/png": "[encoded data removed]",
      "text/plain": [
       "<Figure size 1200x800 with 1 Axes>"
      ]
     },
     "metadata": {},
     "output_type": "display_data"
    }
   ],
   "source": [
    "def plot_model_comparison(model_name):\n",
    "    plt.figure(figsize=(12, 8))\n",
    "    \n",
    "    std_scaler_base = StandardScaler()\n",
    "    X_train_scaled = std_scaler_base.fit_transform(X_train1)\n",
    "    X_val_scaled_base = std_scaler_base.transform(X_val1)\n",
    "    \n",
    "    std_scaler_ro = StandardScaler()\n",
    "    X_train_ro_scaled = std_scaler_ro.fit_transform(X_train1_ro)\n",
    "    X_val_scaled_ro = std_scaler_ro.transform(X_val1)\n",
    "    \n",
    "    std_scaler_smote = StandardScaler()\n",
    "    X_train_smote_scaled = std_scaler_smote.fit_transform(X_train1_smote)\n",
    "    X_val_scaled_smote = std_scaler_smote.transform(X_val1)\n",
    "    \n",
    "    if model_name == \"KNN\":\n",
    "        base_model = KNeighborsClassifier(n_neighbors=int(math.sqrt(X_train1.shape[0])), weights='distance')\n",
    "        ro_model = KNeighborsClassifier(n_neighbors=int(math.sqrt(X_train1_ro.shape[0])), weights='distance')\n",
    "        smote_model = KNeighborsClassifier(n_neighbors=int(math.sqrt(X_train1_smote.shape[0])), weights='distance')\n",
    "    elif model_name == \"Logistic Regression\":\n",
    "        base_model = LogisticRegression()\n",
    "        ro_model = LogisticRegression()\n",
    "        smote_model = LogisticRegression()\n",
    "\n",
    "    models = {\n",
    "        f'{model_name} (Baseline)': (base_model, X_train_scaled, X_val_scaled_base, y_train1),\n",
    "        f'{model_name} + Random Oversampling': (ro_model, X_train_ro_scaled, X_val_scaled_ro, y_train1_ro),\n",
    "        f'{model_name} + SMOTE': (smote_model, X_train_smote_scaled, X_val_scaled_smote, y_train1_smote)\n",
    "    }\n",
    "    \n",
    "    colors = ['b', 'r', 'g']\n",
    "    for (name, (model, X_train, X_val, y_train)), color in zip(models.items(), colors):\n",
    "        model.fit(X_train, y_train)\n",
    "        y_score = model.predict_proba(X_val)[:, 1]\n",
    "        fpr, tpr, _ = roc_curve(y_val1, y_score)\n",
    "        roc_auc = auc(fpr, tpr)\n",
    "        plt.plot(fpr, tpr, color=color, lw=2, label=f'{name} (AUC = {roc_auc:.3f})')\n",
    "    \n",
    "    plt.plot([0, 1], [0, 1], 'k--', lw=2)\n",
    "    plt.xlim([0.0, 1.0])\n",
    "    plt.ylim([0.0, 1.05])\n",
    "    plt.xlabel('False Positive Rate', fontsize=12)\n",
    "    plt.ylabel('True Positive Rate', fontsize=12)\n",
    "    plt.title(f'ROC Curves - {model_name} với các phương pháp xử lý dữ liệu khác nhau', fontsize=14)\n",
    "    plt.legend(loc=\"lower right\", fontsize=10)\n",
    "    plt.grid(True, alpha=0.3)\n",
    "    plt.savefig(f'figures/{model}_roc_curve.jpg')\n",
    "    plt.show()\n",
    "\n",
    "# Vẽ so sánh cho từng loại model\n",
    "plot_model_comparison(\"KNN\")\n",
    "plot_model_comparison(\"Logistic Regression\")"
   ]
  }
 ],
 "metadata": {
  "kernelspec": {
   "display_name": "Python 3",
   "language": "python",
   "name": "python3"
  },
  "language_info": {
   "codemirror_mode": {
    "name": "ipython",
    "version": 3
   },
   "file_extension": ".py",
   "mimetype": "text/x-python",
   "name": "python",
   "nbconvert_exporter": "python",
   "pygments_lexer": "ipython3",
   "version": "3.10.11"
  }
 },
 "nbformat": 4,
 "nbformat_minor": 5
}
