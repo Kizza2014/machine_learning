{
 "cells": [
  {
   "cell_type": "code",
   "execution_count": 6,
   "id": "1771b6a7-29cf-4122-ab14-e124f861981f",
   "metadata": {},
   "outputs": [],
   "source": [
    "import pandas as pd\n",
    "from sklearn.decomposition import PCA\n",
    "from sklearn.discriminant_analysis import LinearDiscriminantAnalysis\n",
    "from sklearn.preprocessing import StandardScaler\n",
    "import itertools\n",
    "import matplotlib.pyplot as plt\n",
    "import seaborn as sns\n",
    "import numpy as np\n",
    "import warnings\n",
    "warnings.filterwarnings('ignore')\n",
    "import umap.umap_ as umap"
   ]
  },
  {
   "cell_type": "code",
   "execution_count": 7,
   "id": "014fc3fd-8320-4151-a2ba-b5781d044019",
   "metadata": {},
   "outputs": [],
   "source": [
    "NO_DISEASE_COLOR = '#a1c9f4'  # Xanh pastel\n",
    "DISEASE_COLOR = '#ff9f80'     # Cam pastel\n",
    "COLOR_PALETTE = [NO_DISEASE_COLOR, DISEASE_COLOR]"
   ]
  },
  {
   "cell_type": "code",
   "execution_count": 75,
   "id": "3b74e4a2-0111-4f3a-a326-2ad4c1c3ea4f",
   "metadata": {},
   "outputs": [
    {
     "data": {
      "text/html": [
       "<div>\n",
       "<style scoped>\n",
       "    .dataframe tbody tr th:only-of-type {\n",
       "        vertical-align: middle;\n",
       "    }\n",
       "\n",
       "    .dataframe tbody tr th {\n",
       "        vertical-align: top;\n",
       "    }\n",
       "\n",
       "    .dataframe thead th {\n",
       "        text-align: right;\n",
       "    }\n",
       "</style>\n",
       "<table border=\"1\" class=\"dataframe\">\n",
       "  <thead>\n",
       "    <tr style=\"text-align: right;\">\n",
       "      <th></th>\n",
       "      <th>HeartDiseaseorAttack</th>\n",
       "      <th>HighBP</th>\n",
       "      <th>HighChol</th>\n",
       "      <th>CholCheck</th>\n",
       "      <th>BMI</th>\n",
       "      <th>Smoker</th>\n",
       "      <th>Stroke</th>\n",
       "      <th>Diabetes</th>\n",
       "      <th>PhysActivity</th>\n",
       "      <th>Fruits</th>\n",
       "      <th>Veggies</th>\n",
       "      <th>HvyAlcoholConsump</th>\n",
       "      <th>AnyHealthcare</th>\n",
       "      <th>NoDocbcCost</th>\n",
       "      <th>GenHlth</th>\n",
       "      <th>MentHlth</th>\n",
       "      <th>PhysHlth</th>\n",
       "      <th>DiffWalk</th>\n",
       "      <th>Sex</th>\n",
       "      <th>Age</th>\n",
       "      <th>Education</th>\n",
       "      <th>Income</th>\n",
       "    </tr>\n",
       "  </thead>\n",
       "  <tbody>\n",
       "    <tr>\n",
       "      <th>0</th>\n",
       "      <td>0.0</td>\n",
       "      <td>1.0</td>\n",
       "      <td>1.0</td>\n",
       "      <td>1.0</td>\n",
       "      <td>40.0</td>\n",
       "      <td>1.0</td>\n",
       "      <td>0.0</td>\n",
       "      <td>0.0</td>\n",
       "      <td>0.0</td>\n",
       "      <td>0.0</td>\n",
       "      <td>1.0</td>\n",
       "      <td>0.0</td>\n",
       "      <td>1.0</td>\n",
       "      <td>0.0</td>\n",
       "      <td>5.0</td>\n",
       "      <td>18.0</td>\n",
       "      <td>15.0</td>\n",
       "      <td>1.0</td>\n",
       "      <td>0.0</td>\n",
       "      <td>9.0</td>\n",
       "      <td>4.0</td>\n",
       "      <td>3.0</td>\n",
       "    </tr>\n",
       "    <tr>\n",
       "      <th>1</th>\n",
       "      <td>0.0</td>\n",
       "      <td>0.0</td>\n",
       "      <td>0.0</td>\n",
       "      <td>0.0</td>\n",
       "      <td>25.0</td>\n",
       "      <td>1.0</td>\n",
       "      <td>0.0</td>\n",
       "      <td>0.0</td>\n",
       "      <td>1.0</td>\n",
       "      <td>0.0</td>\n",
       "      <td>0.0</td>\n",
       "      <td>0.0</td>\n",
       "      <td>0.0</td>\n",
       "      <td>1.0</td>\n",
       "      <td>3.0</td>\n",
       "      <td>0.0</td>\n",
       "      <td>0.0</td>\n",
       "      <td>0.0</td>\n",
       "      <td>0.0</td>\n",
       "      <td>7.0</td>\n",
       "      <td>6.0</td>\n",
       "      <td>1.0</td>\n",
       "    </tr>\n",
       "    <tr>\n",
       "      <th>2</th>\n",
       "      <td>0.0</td>\n",
       "      <td>1.0</td>\n",
       "      <td>1.0</td>\n",
       "      <td>1.0</td>\n",
       "      <td>28.0</td>\n",
       "      <td>0.0</td>\n",
       "      <td>0.0</td>\n",
       "      <td>0.0</td>\n",
       "      <td>0.0</td>\n",
       "      <td>1.0</td>\n",
       "      <td>0.0</td>\n",
       "      <td>0.0</td>\n",
       "      <td>1.0</td>\n",
       "      <td>1.0</td>\n",
       "      <td>5.0</td>\n",
       "      <td>30.0</td>\n",
       "      <td>30.0</td>\n",
       "      <td>1.0</td>\n",
       "      <td>0.0</td>\n",
       "      <td>9.0</td>\n",
       "      <td>4.0</td>\n",
       "      <td>8.0</td>\n",
       "    </tr>\n",
       "    <tr>\n",
       "      <th>3</th>\n",
       "      <td>0.0</td>\n",
       "      <td>1.0</td>\n",
       "      <td>0.0</td>\n",
       "      <td>1.0</td>\n",
       "      <td>27.0</td>\n",
       "      <td>0.0</td>\n",
       "      <td>0.0</td>\n",
       "      <td>0.0</td>\n",
       "      <td>1.0</td>\n",
       "      <td>1.0</td>\n",
       "      <td>1.0</td>\n",
       "      <td>0.0</td>\n",
       "      <td>1.0</td>\n",
       "      <td>0.0</td>\n",
       "      <td>2.0</td>\n",
       "      <td>0.0</td>\n",
       "      <td>0.0</td>\n",
       "      <td>0.0</td>\n",
       "      <td>0.0</td>\n",
       "      <td>11.0</td>\n",
       "      <td>3.0</td>\n",
       "      <td>6.0</td>\n",
       "    </tr>\n",
       "    <tr>\n",
       "      <th>4</th>\n",
       "      <td>0.0</td>\n",
       "      <td>1.0</td>\n",
       "      <td>1.0</td>\n",
       "      <td>1.0</td>\n",
       "      <td>24.0</td>\n",
       "      <td>0.0</td>\n",
       "      <td>0.0</td>\n",
       "      <td>0.0</td>\n",
       "      <td>1.0</td>\n",
       "      <td>1.0</td>\n",
       "      <td>1.0</td>\n",
       "      <td>0.0</td>\n",
       "      <td>1.0</td>\n",
       "      <td>0.0</td>\n",
       "      <td>2.0</td>\n",
       "      <td>3.0</td>\n",
       "      <td>0.0</td>\n",
       "      <td>0.0</td>\n",
       "      <td>0.0</td>\n",
       "      <td>11.0</td>\n",
       "      <td>5.0</td>\n",
       "      <td>4.0</td>\n",
       "    </tr>\n",
       "  </tbody>\n",
       "</table>\n",
       "</div>"
      ],
      "text/plain": [
       "   HeartDiseaseorAttack  HighBP  HighChol  ...   Age  Education  Income\n",
       "0                   0.0     1.0       1.0  ...   9.0        4.0     3.0\n",
       "1                   0.0     0.0       0.0  ...   7.0        6.0     1.0\n",
       "2                   0.0     1.0       1.0  ...   9.0        4.0     8.0\n",
       "3                   0.0     1.0       0.0  ...  11.0        3.0     6.0\n",
       "4                   0.0     1.0       1.0  ...  11.0        5.0     4.0\n",
       "\n",
       "[5 rows x 22 columns]"
      ]
     },
     "execution_count": 75,
     "metadata": {},
     "output_type": "execute_result"
    }
   ],
   "source": [
    "data = pd.read_csv('../../../datasets/heart_disease_BRFSS2015/heart_disease_health_indicators_BRFSS2015.csv')\n",
    "data.head()"
   ]
  },
  {
   "cell_type": "code",
   "execution_count": 76,
   "id": "03c17f7c-8966-4f59-97bd-5b6ebc54ca20",
   "metadata": {},
   "outputs": [],
   "source": [
    "X, y = data.drop('HeartDiseaseorAttack', axis=1), data['HeartDiseaseorAttack']"
   ]
  },
  {
   "cell_type": "code",
   "execution_count": 25,
   "id": "fb1dfbb1-18ba-4ceb-8501-9981e00cef98",
   "metadata": {},
   "outputs": [],
   "source": [
    "from sklearn.utils import resample\n",
    "\n",
    "def resample_data(X, y):\n",
    "    imbalanced_data = X.copy()\n",
    "    imbalanced_data['HeartDiseaseorAttack'] = y.copy()\n",
    "\n",
    "    minority_class = imbalanced_data[imbalanced_data['HeartDiseaseorAttack'] == 1.0]\n",
    "    majority_class = imbalanced_data[imbalanced_data['HeartDiseaseorAttack'] == 0.0]\n",
    "\n",
    "    # upsample the minority class\n",
    "    minority_upsampled = resample(minority_class, replace=True, n_samples=len(majority_class), random_state=42)\n",
    "\n",
    "    # combine the upsampled minority class with the majority class\n",
    "    balanced_data = pd.concat([majority_class, minority_upsampled])\n",
    "    X_ro, y_ro = balanced_data.drop('HeartDiseaseorAttack', axis=1), balanced_data['HeartDiseaseorAttack']\n",
    "    return X_ro, y_ro"
   ]
  },
  {
   "cell_type": "code",
   "execution_count": 93,
   "id": "5aa4a9ad-75da-4994-85a2-916ce10821a4",
   "metadata": {},
   "outputs": [
    {
     "name": "stdout",
     "output_type": "stream",
     "text": [
      "\n",
      "PCA on scaled data:\n",
      "Shape of transformed data: (253680, 14)\n",
      "Explained variance ratio: [0.16887932 0.08353438 0.06489342 0.05663571 0.05470661 0.05331009\n",
      " 0.04691048 0.04505335 0.04400451 0.04200924 0.03894772 0.03755471\n",
      " 0.03529163 0.03472346]\n",
      "Cumulative explained variance: [0.16887932 0.2524137  0.31730712 0.37394283 0.42864944 0.48195953\n",
      " 0.52887002 0.57392337 0.61792788 0.65993712 0.69888484 0.73643954\n",
      " 0.77173118 0.80645463]\n"
     ]
    },
    {
     "data": {
      "image/png": "[encoded data removed]",
      "text/plain": [
       "<Figure size 1000x600 with 1 Axes>"
      ]
     },
     "metadata": {},
     "output_type": "display_data"
    }
   ],
   "source": [
    "scaler = StandardScaler()\n",
    "X_scaled = scaler.fit_transform(X)\n",
    "\n",
    "pca = PCA(n_components=14)\n",
    "pca_transformed = pca.fit_transform(X_scaled)\n",
    "\n",
    "# explained variance\n",
    "print(\"\\nPCA on scaled data:\")\n",
    "print(f\"Shape of transformed data: {pca_transformed.shape}\")\n",
    "explained_var = pca.explained_variance_ratio_\n",
    "print(f\"Explained variance ratio: {explained_var}\")\n",
    "print(f\"Cumulative explained variance: {np.cumsum(explained_var)}\")\n",
    "\n",
    "# scree plot\n",
    "plt.figure(figsize=(10, 6))\n",
    "plt.bar(range(1, len(explained_var) + 1), explained_var, alpha=0.7, color='skyblue')\n",
    "plt.step(range(1, len(explained_var) + 1), np.cumsum(explained_var), where='mid', color='red')\n",
    "plt.xlabel('Principal Components')\n",
    "plt.ylabel('Explained Variance Ratio')\n",
    "plt.title('Scree Plot - PCA on Scaled Data')\n",
    "plt.axhline(y=0.8, color='gray', linestyle='--', alpha=0.5)\n",
    "plt.axhline(y=0.9, color='gray', linestyle='--', alpha=0.5)\n",
    "plt.grid(True, alpha=0.3)\n",
    "plt.tight_layout()"
   ]
  },
  {
   "cell_type": "markdown",
   "id": "8a908fd9-9a9c-44e2-bbff-301dd63e66f7",
   "metadata": {},
   "source": [
    "Thử sử dụng chiều 14 so với chiều 6"
   ]
  },
  {
   "cell_type": "code",
   "execution_count": 84,
   "id": "2e87ac6f-dae0-411a-8f0c-f0aca99c21cf",
   "metadata": {},
   "outputs": [
    {
     "data": {
      "text/plain": [
       "((177576, 21), (76104, 21), (177576,), (76104,))"
      ]
     },
     "execution_count": 84,
     "metadata": {},
     "output_type": "execute_result"
    }
   ],
   "source": [
    "from sklearn.model_selection import train_test_split\n",
    "\n",
    "X_train, X_test, y_train, y_test = train_test_split(X, y, test_size=0.3, shuffle=True, stratify=y)\n",
    "X_train.shape, X_test.shape, y_train.shape, y_test.shape"
   ]
  },
  {
   "cell_type": "code",
   "execution_count": 85,
   "id": "a47b89aa-894f-415c-b68f-76d831a4bf11",
   "metadata": {},
   "outputs": [
    {
     "data": {
      "text/plain": [
       "((321702, 21), (321702,))"
      ]
     },
     "execution_count": 85,
     "metadata": {},
     "output_type": "execute_result"
    }
   ],
   "source": [
    "X_train_ro, y_train_ro = resample_data(X_train, y_train)\n",
    "X_train_ro.shape, y_train_ro.shape"
   ]
  },
  {
   "cell_type": "code",
   "execution_count": 87,
   "id": "c7ef6782-bd26-4d10-842b-fab1431f03da",
   "metadata": {},
   "outputs": [
    {
     "name": "stdout",
     "output_type": "stream",
     "text": [
      "(321702, 1)\n",
      "(76104, 1)\n",
      "(321702, 14)\n",
      "(76104, 14)\n"
     ]
    }
   ],
   "source": [
    "scaler = StandardScaler()\n",
    "pca = LinearDiscriminantAnalysis(n_components=1)\n",
    "X_train_scale_6 = pca.fit_transform(scaler.fit_transform(X_train_ro), y_train_ro)\n",
    "print(X_train_scale_6.shape)\n",
    "X_test_scale_6 = pca.transform(scaler.transform(X_test))\n",
    "print(X_test_scale_6.shape)\n",
    "\n",
    "scaler = StandardScaler()\n",
    "pca = PCA(n_components=14)\n",
    "X_train_scale_14 = pca.fit_transform(scaler.fit_transform(X_train_ro))\n",
    "print(X_train_scale_14.shape)\n",
    "X_test_scale_14 = pca.transform(scaler.transform(X_test))\n",
    "print(X_test_scale_14.shape)"
   ]
  },
  {
   "cell_type": "code",
   "execution_count": 88,
   "id": "fac0bbef-c2ca-44fd-9ae3-2d0d1a6d552a",
   "metadata": {},
   "outputs": [
    {
     "name": "stdout",
     "output_type": "stream",
     "text": [
      "0.3550245359505014\n",
      "0.23823613629855875\n",
      "0.6964285714285714\n"
     ]
    }
   ],
   "source": [
    "from sklearn.neighbors import KNeighborsClassifier, NeighborhoodComponentsAnalysis\n",
    "from sklearn.metrics import classification_report, f1_score, precision_score, recall_score\n",
    "import math\n",
    "\n",
    "k = int(math.sqrt(X_train_scale_6.shape[0]))\n",
    "knn = KNeighborsClassifier(n_neighbors=k, weights='distance')\n",
    "\n",
    "knn.fit(X_train_scale_6, y_train_ro)\n",
    "\n",
    "## evaluate\n",
    "y_pred = knn.predict(X_test_scale_6)\n",
    "print(f1_score(y_test, y_pred))\n",
    "print(precision_score(y_test, y_pred))\n",
    "print(recall_score(y_test, y_pred))"
   ]
  },
  {
   "cell_type": "code",
   "execution_count": 90,
   "id": "36784ee6-0872-486e-a8d0-887d05fd709d",
   "metadata": {},
   "outputs": [
    {
     "name": "stdout",
     "output_type": "stream",
     "text": [
      "              precision    recall  f1-score   support\n",
      "\n",
      "         0.0       0.97      0.69      0.81     68936\n",
      "         1.0       0.21      0.79      0.33      7168\n",
      "\n",
      "    accuracy                           0.70     76104\n",
      "   macro avg       0.59      0.74      0.57     76104\n",
      "weighted avg       0.90      0.70      0.76     76104\n",
      "\n"
     ]
    }
   ],
   "source": [
    "k = int(math.sqrt(X_train_ro.shape[0]))\n",
    "knn = KNeighborsClassifier(n_neighbors=k, weights='distance')\n",
    "\n",
    "knn.fit(X_train_ro, y_train_ro)\n",
    "\n",
    "## evaluate\n",
    "y_pred = knn.predict(X_test)\n",
    "print(classification_report(y_test, y_pred))"
   ]
  },
  {
   "cell_type": "code",
   "execution_count": 91,
   "id": "4aa986b8-d6a1-4962-8ce8-c54db07fecc7",
   "metadata": {},
   "outputs": [
    {
     "name": "stdout",
     "output_type": "stream",
     "text": [
      "0.3307215530347328\n",
      "0.2092025447551413\n",
      "0.7890625\n"
     ]
    }
   ],
   "source": [
    "print(f1_score(y_test, y_pred))\n",
    "print(precision_score(y_test, y_pred))\n",
    "print(recall_score(y_test, y_pred))"
   ]
  },
  {
   "cell_type": "code",
   "execution_count": 78,
   "id": "a06e8134-36bd-4f23-99b4-d48b5c0ec381",
   "metadata": {},
   "outputs": [
    {
     "name": "stdout",
     "output_type": "stream",
     "text": [
      "(177576, 6)\n",
      "(76104, 6)\n",
      "(177576, 14)\n",
      "(76104, 14)\n",
      "0.35747693906716904\n",
      "0.2329805249788315\n",
      "0.7677176339285714\n"
     ]
    }
   ],
   "source": [
    "from sklearn.linear_model import LogisticRegression\n",
    "\n",
    "scaler = StandardScaler()\n",
    "pca = PCA(n_components=6)\n",
    "X_train_scale_6 = pca.fit_transform(scaler.fit_transform(X_train))\n",
    "print(X_train_scale_6.shape)\n",
    "X_test_scale_6 = pca.transform(scaler.transform(X_test))\n",
    "print(X_test_scale_6.shape)\n",
    "\n",
    "scaler = StandardScaler()\n",
    "pca = PCA(n_components=14)\n",
    "X_train_scale_14 = pca.fit_transform(scaler.fit_transform(X_train))\n",
    "print(X_train_scale_14.shape)\n",
    "X_test_scale_14 = pca.transform(scaler.transform(X_test))\n",
    "print(X_test_scale_14.shape)\n",
    "\n",
    "lr = LogisticRegression(class_weight='balanced')\n",
    "lr.fit(X_train_scale_6, y_train)\n",
    "y_pred = lr.predict(X_test_scale_6)\n",
    "print(f1_score(y_test, y_pred))\n",
    "print(precision_score(y_test, y_pred))\n",
    "print(recall_score(y_test, y_pred))"
   ]
  },
  {
   "cell_type": "code",
   "execution_count": 77,
   "id": "fb245c73-51b2-4439-890e-ece436159ecb",
   "metadata": {},
   "outputs": [
    {
     "name": "stdout",
     "output_type": "stream",
     "text": [
      "0.37080030513084145\n",
      "0.24322325196884653\n",
      "0.7798549107142857\n"
     ]
    }
   ],
   "source": [
    "lr = LogisticRegression(class_weight='balanced')\n",
    "lr.fit(X_train_scale_14, y_train)\n",
    "y_pred = lr.predict(X_test_scale_14)\n",
    "print(f1_score(y_test, y_pred))\n",
    "print(precision_score(y_test, y_pred))\n",
    "print(recall_score(y_test, y_pred))"
   ]
  },
  {
   "cell_type": "code",
   "execution_count": 80,
   "id": "9ef0d2e2-1782-4f14-8d51-f4e77e724c48",
   "metadata": {},
   "outputs": [
    {
     "name": "stdout",
     "output_type": "stream",
     "text": [
      "0.3709903279382551\n",
      "0.24198139258252263\n",
      "0.7946428571428571\n"
     ]
    }
   ],
   "source": [
    "lr = LogisticRegression(class_weight='balanced')\n",
    "lr.fit(X_train, y_train)\n",
    "y_pred = lr.predict(X_test)\n",
    "print(f1_score(y_test, y_pred))\n",
    "print(precision_score(y_test, y_pred))\n",
    "print(recall_score(y_test, y_pred))"
   ]
  },
  {
   "cell_type": "code",
   "execution_count": 79,
   "id": "0b038862-d3bd-4e3a-bb51-afeac2245096",
   "metadata": {},
   "outputs": [
    {
     "name": "stdout",
     "output_type": "stream",
     "text": [
      "0.3843627502913444\n",
      "0.25731713083360913\n",
      "0.7592075892857143\n"
     ]
    }
   ],
   "source": [
    "from sklearn.discriminant_analysis import LinearDiscriminantAnalysis\n",
    "from sklearn.preprocessing import MinMaxScaler, MaxAbsScaler\n",
    "scaler = MinMaxScaler()\n",
    "lda = LinearDiscriminantAnalysis(n_components=1)\n",
    "X_train_lda = lda.fit_transform(scaler.fit_transform(X_train), y_train)\n",
    "X_test_lda = lda.transform(scaler.transform(X_test))\n",
    "\n",
    "lr = LogisticRegression(class_weight=\"balanced\")\n",
    "lr.fit(X_train_lda, y_train)\n",
    "\n",
    "y_pred = lr.predict(X_test_lda)\n",
    "print(f1_score(y_test, y_pred))\n",
    "print(precision_score(y_test, y_pred))\n",
    "print(recall_score(y_test, y_pred))"
   ]
  }
 ],
 "metadata": {
  "kernelspec": {
   "display_name": "Python 3 (ipykernel)",
   "language": "python",
   "name": "python3"
  },
  "language_info": {
   "codemirror_mode": {
    "name": "ipython",
    "version": 3
   },
   "file_extension": ".py",
   "mimetype": "text/x-python",
   "name": "python",
   "nbconvert_exporter": "python",
   "pygments_lexer": "ipython3",
   "version": "3.10.12"
  }
 },
 "nbformat": 4,
 "nbformat_minor": 5
}
